{
 "cells": [
  {
   "cell_type": "code",
   "execution_count": null,
   "id": "f5d99cb5-44c6-4426-b3d3-975e57ae3284",
   "metadata": {},
   "outputs": [],
   "source": [
    "#¡¡¡¡IMPORTANT NOTE!!!!\n",
    "#The code requires a column with the smiles strings whose header must be named as: Smiles\n",
    "\n",
    "#pip install admet-ai\n",
    "\n",
    "import pandas as pd\n",
    "from admet_ai import ADMETModel\n",
    "\n",
    "# Initialize the model\n",
    "model = ADMETModel()\n",
    "\n",
    "# Read the Excel or csv file\n",
    "file_path = \"name_of_the_database_file.xlsx\"   #Type here the name of the file which cointains the SMILES strings.\n",
    "df = pd.read_excel(file_path)\n",
    "\n",
    "#file_path = \"name_of_the_database_file.csv\"\n",
    "#df = pd.read_csv(file_path)\n",
    "\n",
    "# Check that the 'Smiles' column exists\n",
    "if \"Smiles\" not in df.columns:\n",
    "    raise ValueError(\"The 'Smiles' column does not exist in the provided file.\")\n",
    "\n",
    "# Create a list to store the results\n",
    "results = []\n",
    "\n",
    "# Iterate over each SMILES and make predictions\n",
    "for idx, smiles in enumerate(df[\"Smiles\"]):\n",
    "    try:\n",
    "        prediction = model.predict(smiles=smiles)\n",
    "        results.append(prediction)\n",
    "        print(f\"Processed row {idx}\")\n",
    "    except Exception as e:\n",
    "        print(f\"Error predicting for row {idx} ({smiles}): {e}\")\n",
    "        results.append(None)\n",
    "\n",
    "# Convert the results into a DataFrame\n",
    "results_df = pd.DataFrame(results)\n",
    "\n",
    "# Combine the results with the original DataFrame\n",
    "df_combined = pd.concat([df, results_df], axis=1)\n",
    "\n",
    "# Save the combined DataFrame to a new Excel file\n",
    "output_file = \"database_with_ADMET.xlsx\"\n",
    "df_combined.to_excel(output_file, index=False)\n",
    "\n",
    "print(f\"Predictions saved to: {output_file}\")\n"
   ]
  }
 ],
 "metadata": {
  "kernelspec": {
   "display_name": "Python 3 (ipykernel)",
   "language": "python",
   "name": "python3"
  },
  "language_info": {
   "codemirror_mode": {
    "name": "ipython",
    "version": 3
   },
   "file_extension": ".py",
   "mimetype": "text/x-python",
   "name": "python",
   "nbconvert_exporter": "python",
   "pygments_lexer": "ipython3",
   "version": "3.12.5"
  }
 },
 "nbformat": 4,
 "nbformat_minor": 5
}
